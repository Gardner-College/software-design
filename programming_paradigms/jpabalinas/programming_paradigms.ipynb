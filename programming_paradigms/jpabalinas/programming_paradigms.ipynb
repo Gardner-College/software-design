{
 "cells": [
  {
   "cell_type": "markdown",
   "metadata": {},
   "source": [
    "# Programming Constructs and Paradigms\n",
    "\n",
    "This notebook explains different programming paradigms with examples.\n"
   ]
  },
  {
   "cell_type": "markdown",
   "metadata": {},
   "source": [
    "### Procedural Programming"
   ]
  },
  {
   "cell_type": "code",
   "execution_count": 9,
   "metadata": {},
   "outputs": [
    {
     "name": "stdout",
     "output_type": "stream",
     "text": [
      "Procedural Programming Example\n",
      "Roots: (2.0, 1.0)\n"
     ]
    }
   ],
   "source": [
    "# Procedural Programming (PP)\n",
    "import math\n",
    "\n",
    "print(\"Procedural Programming Example\")\n",
    "\n",
    "# Function to calculate the roots of a quadratic equation\n",
    "def quadratic_formula(a, b, c):\n",
    "    discriminant = b**2 - 4*a*c\n",
    "    \n",
    "    # Check if discriminant is negative\n",
    "    if discriminant < 0:\n",
    "        return \"No real roots (discriminant is negative)\"\n",
    "    \n",
    "    # Calculate the two roots\n",
    "    root1 = (-b + math.sqrt(discriminant)) / (2*a)\n",
    "    root2 = (-b - math.sqrt(discriminant)) / (2*a)\n",
    "    \n",
    "    return root1, root2\n",
    "\n",
    "# Using the function and printing the result\n",
    "a, b, c = 1, -3, 2  # Example coefficients for x^2 - 3x + 2 = 0\n",
    "roots = quadratic_formula(a, b, c)\n",
    "\n",
    "# Check if there are valid roots or not\n",
    "if isinstance(roots, tuple):\n",
    "    print(\"Roots:\", roots)\n",
    "else:\n",
    "    print(roots)\n"
   ]
  },
  {
   "cell_type": "markdown",
   "metadata": {},
   "source": [
    "# Problem Exercise: Write a function to calculate the factorial of a given number using procedural programming."
   ]
  },
  {
   "cell_type": "code",
   "execution_count": 14,
   "metadata": {},
   "outputs": [
    {
     "name": "stdout",
     "output_type": "stream",
     "text": [
      "Sum of first 5 natural numbers: 15\n"
     ]
    }
   ],
   "source": [
    "def sum_of_natural_numbers(n):\n",
    "    # Using the formula for the sum of first n natural numbers: n(n+1)/2\n",
    "    result = n * (n + 1) // 2\n",
    "    return result\n",
    "\n",
    "# Test with an example\n",
    "print(\"Sum of first 5 natural numbers:\", sum_of_natural_numbers(5))\n"
   ]
  },
  {
   "cell_type": "markdown",
   "metadata": {},
   "source": [
    "### Functional Programming"
   ]
  },
  {
   "cell_type": "code",
   "execution_count": 16,
   "metadata": {},
   "outputs": [
    {
     "name": "stdout",
     "output_type": "stream",
     "text": [
      "Functional Programming Example\n",
      "Product: 15\n"
     ]
    }
   ],
   "source": [
    "# Functional Programming (FP)\n",
    "print(\"Functional Programming Example\")\n",
    "\n",
    "# Lambda function to calculate the product of two numbers\n",
    "multiply = lambda x, y: x * y\n",
    "\n",
    "# Test with an example\n",
    "print(\"Product:\", multiply(5, 3))\n",
    "\n"
   ]
  },
  {
   "cell_type": "markdown",
   "metadata": {},
   "source": [
    "#### Problem Exercise: Implement a function that returns a list of squares of numbers using functional programming."
   ]
  },
  {
   "cell_type": "code",
   "execution_count": 18,
   "metadata": {},
   "outputs": [
    {
     "name": "stdout",
     "output_type": "stream",
     "text": [
      "Cubes: [1, 8, 27, 64, 125]\n"
     ]
    }
   ],
   "source": [
    "numbers = [1, 2, 3, 4, 5]\n",
    "\n",
    "# Using map to calculate the cube of each number\n",
    "cubes = list(map(lambda x: x ** 3, numbers))\n",
    "\n",
    "print(\"Cubes:\", cubes)\n"
   ]
  },
  {
   "cell_type": "markdown",
   "metadata": {},
   "source": [
    "### Object-Oriented Programming (OOP)"
   ]
  },
  {
   "cell_type": "code",
   "execution_count": 20,
   "metadata": {},
   "outputs": [
    {
     "name": "stdout",
     "output_type": "stream",
     "text": [
      "Object-Oriented Programming Example\n",
      "Slope: 1.3333333333333333\n"
     ]
    }
   ],
   "source": [
    "# Object-Oriented Programming (OOP)\n",
    "print(\"Object-Oriented Programming Example\")\n",
    "\n",
    "class Calculator:\n",
    "    def slope(self, x1, y1, x2, y2):\n",
    "        # Check if the line is vertical (to avoid division by zero)\n",
    "        if x2 - x1 == 0:\n",
    "            return \"Undefined (vertical line)\"\n",
    "        return (y2 - y1) / (x2 - x1)\n",
    "\n",
    "# Create an instance of the Calculator class\n",
    "calc = Calculator()\n",
    "\n",
    "# Call the slope method with two points (x1, y1) and (x2, y2)\n",
    "print(\"Slope:\", calc.slope(1, 2, 4, 6))\n",
    "\n"
   ]
  },
  {
   "cell_type": "markdown",
   "metadata": {},
   "source": [
    "#### Problem Exercise: Create a class `Rectangle` with methods to calculate area and perimeter."
   ]
  },
  {
   "cell_type": "code",
   "execution_count": 22,
   "metadata": {},
   "outputs": [
    {
     "name": "stdout",
     "output_type": "stream",
     "text": [
      "Distance: 5.0\n"
     ]
    }
   ],
   "source": [
    "import math\n",
    "\n",
    "# Class to calculate the distance between two points\n",
    "class DistanceCalculator:\n",
    "    def __init__(self, x1, y1, x2, y2):\n",
    "        self.x1 = x1\n",
    "        self.y1 = y1\n",
    "        self.x2 = x2\n",
    "        self.y2 = y2\n",
    "    \n",
    "    def distance(self):\n",
    "        # Calculate the distance using the distance formula\n",
    "        return math.sqrt((self.x2 - self.x1)**2 + (self.y2 - self.y1)**2)\n",
    "\n",
    "# Create an instance of the DistanceCalculator class with two points\n",
    "distance_calc = DistanceCalculator(1, 2, 4, 6)\n",
    "\n",
    "# Print the calculated distance\n",
    "print(\"Distance:\", distance_calc.distance())\n",
    "\n"
   ]
  },
  {
   "cell_type": "markdown",
   "metadata": {},
   "source": [
    "### Conclusion\n",
    "Each paradigm has unique strengths. Combining them often leads to better software design."
   ]
  }
 ],
 "metadata": {
  "kernelspec": {
   "display_name": "Python [conda env:base] *",
   "language": "python",
   "name": "conda-base-py"
  },
  "language_info": {
   "codemirror_mode": {
    "name": "ipython",
    "version": 3
   },
   "file_extension": ".py",
   "mimetype": "text/x-python",
   "name": "python",
   "nbconvert_exporter": "python",
   "pygments_lexer": "ipython3",
   "version": "3.12.7"
  }
 },
 "nbformat": 4,
 "nbformat_minor": 4
}
