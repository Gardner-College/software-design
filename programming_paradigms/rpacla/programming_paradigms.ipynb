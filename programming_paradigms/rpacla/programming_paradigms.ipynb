{
 "cells": [
  {
   "cell_type": "markdown",
   "metadata": {},
   "source": [
    "# Programming Constructs and Paradigms\n",
    "\n",
    "This notebook explains different programming paradigms with examples.\n"
   ]
  },
  {
   "cell_type": "markdown",
   "metadata": {},
   "source": [
    "### Procedural Programming"
   ]
  },
  {
   "cell_type": "code",
   "execution_count": 1,
   "metadata": {},
   "outputs": [
    {
     "name": "stdout",
     "output_type": "stream",
     "text": [
      "Procedural Programming Example\n",
      "Product: 15\n"
     ]
    }
   ],
   "source": [
    "# Procedural Programming (PP)\n",
    "print(\"Procedural Programming Example\")\n",
    "def multiply_numbers(a, b):\n",
    "    return a * b  # Changed from addition to multiplication\n",
    "print(\"Product:\", multiply_numbers(5, 3))  # Updated the output message accordingly"
   ]
  },
  {
   "cell_type": "markdown",
   "metadata": {},
   "source": [
    "#### Problem Exercise: Write a function to calculate the factorial of a given number using procedural programming."
   ]
  },
  {
   "cell_type": "code",
   "execution_count": 3,
   "metadata": {},
   "outputs": [
    {
     "name": "stdout",
     "output_type": "stream",
     "text": [
      "Fibonacci of 5: 5\n"
     ]
    }
   ],
   "source": [
    "def fibonacci(n):\n",
    "    a, b = 0, 1\n",
    "    for _ in range(n):  # Run n times to get nth Fibonacci number\n",
    "        a, b = b, a + b\n",
    "    return a\n",
    "\n",
    "print(\"Fibonacci of 5:\", fibonacci(5))  # Output will be 5 (the fifth Fibonacci number)"
   ]
  },
  {
   "cell_type": "markdown",
   "metadata": {},
   "source": [
    "### Functional Programming"
   ]
  },
  {
   "cell_type": "code",
   "execution_count": 5,
   "metadata": {},
   "outputs": [
    {
     "name": "stdout",
     "output_type": "stream",
     "text": [
      "Functional Programming Example\n",
      "Concatenated String: Hello, World!\n"
     ]
    }
   ],
   "source": [
    "# Functional Programming (FP)\n",
    "print(\"Functional Programming Example\")\n",
    "concat = lambda x, y: x + y  # Change to concatenation\n",
    "print(\"Concatenated String:\", concat(\"Hello, \", \"World!\"))  # Output will be \"Hello, World!\""
   ]
  },
  {
   "cell_type": "markdown",
   "metadata": {},
   "source": [
    "#### Problem Exercise: Implement a function that returns a list of squares of numbers using functional programming."
   ]
  },
  {
   "cell_type": "code",
   "execution_count": 7,
   "metadata": {},
   "outputs": [
    {
     "name": "stdout",
     "output_type": "stream",
     "text": [
      "Sines: [0.0, 0.7071067811865476, 1.0, 1.2246467991473532e-16]\n"
     ]
    }
   ],
   "source": [
    "import math\n",
    "numbers = [math.radians(0), math.radians(45), math.radians(90), math.radians(180)]\n",
    "sines = list(map(math.sin, numbers))\n",
    "print(\"Sines:\", sines)"
   ]
  },
  {
   "cell_type": "markdown",
   "metadata": {},
   "source": [
    "### Object-Oriented Programming (OOP)"
   ]
  },
  {
   "cell_type": "code",
   "execution_count": 9,
   "metadata": {},
   "outputs": [
    {
     "name": "stdout",
     "output_type": "stream",
     "text": [
      "Object-Oriented Programming Example\n",
      "Quotient: 1.6666666666666667\n"
     ]
    }
   ],
   "source": [
    "# Object-Oriented Programming (OOP)\n",
    "print(\"Object-Oriented Programming Example\")\n",
    "class Calculator:\n",
    "    def divide(self, x, y):  # Changed method name to 'divide'\n",
    "        if y == 0:\n",
    "            return \"Cannot divide by zero\"  # Handling division by zero\n",
    "        return x / y  # Perform division\n",
    "\n",
    "calc = Calculator()\n",
    "print(\"Quotient:\", calc.divide(5, 3))  # Output will be approximately 1.67"
   ]
  },
  {
   "cell_type": "markdown",
   "metadata": {},
   "source": [
    "#### Problem Exercise: Create a class `Rectangle` with methods to calculate area and perimeter."
   ]
  },
  {
   "cell_type": "code",
   "execution_count": 11,
   "metadata": {},
   "outputs": [
    {
     "name": "stdout",
     "output_type": "stream",
     "text": [
      "Area: 16\n",
      "Perimeter: 16\n"
     ]
    }
   ],
   "source": [
    "class Square:\n",
    "    def __init__(self, side):\n",
    "        self.side = side\n",
    "    \n",
    "    def area(self):\n",
    "        return self.side ** 2  # Area of a square\n",
    "    \n",
    "    def perimeter(self):\n",
    "        return 4 * self.side  # Perimeter of a square\n",
    "\n",
    "# Create a Square object\n",
    "square = Square(4)\n",
    "print(\"Area:\", square.area())\n",
    "print(\"Perimeter:\", square.perimeter())"
   ]
  },
  {
   "cell_type": "markdown",
   "metadata": {},
   "source": [
    "### Conclusion\n",
    "Each paradigm has unique strengths. Combining them often leads to better software design."
   ]
  }
 ],
 "metadata": {
  "kernelspec": {
   "display_name": "Python [conda env:base]",
   "language": "python",
   "name": "conda-base-py"
  },
  "language_info": {
   "codemirror_mode": {
    "name": "ipython",
    "version": 3
   },
   "file_extension": ".py",
   "mimetype": "text/x-python",
   "name": "python",
   "nbconvert_exporter": "python",
   "pygments_lexer": "ipython3",
   "version": "3.12.7"
  }
 },
 "nbformat": 4,
 "nbformat_minor": 4
}
