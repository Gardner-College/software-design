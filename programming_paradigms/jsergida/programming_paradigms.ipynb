{
 "cells": [
  {
   "cell_type": "markdown",
   "metadata": {},
   "source": [
    "# Programming Constructs and Paradigms\n",
    "\n",
    "This notebook explains different programming paradigms with examples.\n"
   ]
  },
  {
   "cell_type": "markdown",
   "metadata": {},
   "source": [
    "### Procedural Programming"
   ]
  },
  {
   "cell_type": "code",
   "execution_count": 1,
   "metadata": {},
   "outputs": [
    {
     "name": "stdout",
     "output_type": "stream",
     "text": [
      "Procedural Programming Example\n",
      "multiply: 15\n"
     ]
    }
   ],
   "source": [
    "# Procedural Programming (PP)\n",
    "print(\"Procedural Programming Example\")\n",
    "def multiply_numbers(a, b):\n",
    "    return a * b\n",
    "print(\"multiply:\", multiply_numbers(5, 3))\n"
   ]
  },
  {
   "cell_type": "markdown",
   "metadata": {},
   "source": [
    "#### Problem Exercise: Write a function to calculate the factorial of a given number using procedural programming."
   ]
  },
  {
   "cell_type": "code",
   "execution_count": 6,
   "metadata": {},
   "outputs": [
    {
     "name": "stdout",
     "output_type": "stream",
     "text": [
      "Square Root: 5.0\n"
     ]
    }
   ],
   "source": [
    "num = 25\n",
    "sqrt_result = num ** 0.5\n",
    "print(\"Square Root:\", sqrt_result)\n"
   ]
  },
  {
   "cell_type": "markdown",
   "metadata": {},
   "source": [
    "### Functional Programming"
   ]
  },
  {
   "cell_type": "code",
   "execution_count": 3,
   "metadata": {},
   "outputs": [
    {
     "name": "stdout",
     "output_type": "stream",
     "text": [
      "Functional Programming Example\n",
      "difference: 2\n"
     ]
    }
   ],
   "source": [
    "# Functional Programming (FP)\n",
    "print(\"Functional Programming Example\")\n",
    "subtract = lambda x, y: x - y\n",
    "print(\"difference:\", subtract(5, 3))\n"
   ]
  },
  {
   "cell_type": "markdown",
   "metadata": {},
   "source": [
    "#### Problem Exercise: Implement a function that returns a list of squares of numbers using functional programming."
   ]
  },
  {
   "cell_type": "code",
   "execution_count": 9,
   "metadata": {},
   "outputs": [
    {
     "name": "stdout",
     "output_type": "stream",
     "text": [
      "Cube root: [36, 49, 64, 81, 100]\n"
     ]
    }
   ],
   "source": [
    "numbers = [6, 7, 8, 9, 10]\n",
    "squares = list(map(lambda x: x ** 2, numbers))\n",
    "print(\"Cube root:\", squares)\n"
   ]
  },
  {
   "cell_type": "markdown",
   "metadata": {},
   "source": [
    "### Object-Oriented Programming (OOP)"
   ]
  },
  {
   "cell_type": "code",
   "execution_count": 12,
   "metadata": {},
   "outputs": [
    {
     "name": "stdout",
     "output_type": "stream",
     "text": [
      "Object-Oriented Programming Example\n",
      "Subtract: 2\n"
     ]
    }
   ],
   "source": [
    "# Object-Oriented Programming (OOP)\n",
    "print(\"Object-Oriented Programming Example\")\n",
    "class Calculator:\n",
    "    def sub(self, x, y):\n",
    "        return x - y\n",
    "calc = Calculator()\n",
    "print(\"Subtract:\", calc.sub(5, 3))\n"
   ]
  },
  {
   "cell_type": "markdown",
   "metadata": {},
   "source": [
    "#### Problem Exercise: Create a class `triangle` with methods to calculate the sides"
   ]
  },
  {
   "cell_type": "code",
   "execution_count": 13,
   "metadata": {},
   "outputs": [
    {
     "name": "stdout",
     "output_type": "stream",
     "text": [
      "Sides of the triangle: (3.0, 4.0, 5.0)\n"
     ]
    }
   ],
   "source": [
    "import math\n",
    "\n",
    "class Triangle:\n",
    "    def __init__(self, A, B, C):\n",
    "        \"\"\"\n",
    "        Initializes the Triangle with three points A, B, and C.\n",
    "        Each point should be a tuple (x, y).\n",
    "        \"\"\"\n",
    "        self.A = A\n",
    "        self.B = B\n",
    "        self.C = C\n",
    "\n",
    "    def side_length(self, P1, P2):\n",
    "        \"\"\"Calculates the distance between two points P1 and P2.\"\"\"\n",
    "        return math.sqrt((P2[0] - P1[0])**2 + (P2[1] - P1[1])**2)\n",
    "\n",
    "    def get_sides(self):\n",
    "        \"\"\"Returns the lengths of the three sides of the triangle.\"\"\"\n",
    "        side_AB = self.side_length(self.A, self.B)\n",
    "        side_BC = self.side_length(self.B, self.C)\n",
    "        side_CA = self.side_length(self.C, self.A)\n",
    "        return side_AB, side_BC, side_CA\n",
    "\n",
    "triangle = Triangle((0, 0), (3, 0), (3, 4))\n",
    "sides = triangle.get_sides()\n",
    "print(\"Sides of the triangle:\", sides)\n"
   ]
  },
  {
   "cell_type": "markdown",
   "metadata": {},
   "source": [
    "### Conclusion\n",
    "Each paradigm has unique strengths. Combining them often leads to better software design."
   ]
  }
 ],
 "metadata": {
  "kernelspec": {
   "display_name": "Python 3 (ipykernel)",
   "language": "python",
   "name": "python3"
  },
  "language_info": {
   "codemirror_mode": {
    "name": "ipython",
    "version": 3
   },
   "file_extension": ".py",
   "mimetype": "text/x-python",
   "name": "python",
   "nbconvert_exporter": "python",
   "pygments_lexer": "ipython3",
   "version": "3.12.8"
  }
 },
 "nbformat": 4,
 "nbformat_minor": 4
}
