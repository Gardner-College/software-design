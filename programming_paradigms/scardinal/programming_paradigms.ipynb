{
 "cells": [
  {
   "cell_type": "markdown",
   "metadata": {},
   "source": [
    "# Programming Constructs and Paradigms\n",
    "\n",
    "This notebook explains different programming paradigms with examples.\n"
   ]
  },
  {
   "cell_type": "markdown",
   "metadata": {},
   "source": [
    "### Procedural Programming"
   ]
  },
  {
   "cell_type": "code",
   "execution_count": 2,
   "metadata": {},
   "outputs": [
    {
     "name": "stdout",
     "output_type": "stream",
     "text": [
      "Procedural Programming Example\n",
      "Division: 5.0\n"
     ]
    }
   ],
   "source": [
    "# Procedural Programming (PP)\n",
    "print(\"Procedural Programming Example\")\n",
    "def divide_numbers(a, b):\n",
    "    return a / b\n",
    "print(\"Division:\", divide_numbers(20, 4))"
   ]
  },
  {
   "cell_type": "markdown",
   "metadata": {},
   "source": [
    "#### Problem Exercise: Write a function to calculate the factorial of a given number using procedural programming."
   ]
  },
  {
   "cell_type": "code",
   "execution_count": 4,
   "metadata": {},
   "outputs": [
    {
     "name": "stdout",
     "output_type": "stream",
     "text": [
      "Factorial (recursive): 120\n"
     ]
    }
   ],
   "source": [
    "def factorial_recursive(n):\n",
    "    if n == 0:\n",
    "        return 1  # Base case: factorial of 0 is 1\n",
    "    else:\n",
    "        return n * factorial_recursive(n - 1)  # Recursive call\n",
    "\n",
    "print(\"Factorial (recursive):\", factorial_recursive(5))\n"
   ]
  },
  {
   "cell_type": "markdown",
   "metadata": {},
   "source": [
    "### Functional Programming"
   ]
  },
  {
   "cell_type": "code",
   "execution_count": 6,
   "metadata": {},
   "outputs": [
    {
     "name": "stdout",
     "output_type": "stream",
     "text": [
      "[20, 4, 10, 12]\n"
     ]
    }
   ],
   "source": [
    "# Higher-order function that applies another function to each element of a list\n",
    "def apply_to_all(func, lst):\n",
    "    return [func(x) for x in lst]\n",
    "\n",
    "# A function that doubles a number\n",
    "def double(x):\n",
    "    return x * 2\n",
    "\n",
    "numbers = [10, 2, 5, 6]\n",
    "doubled_numbers = apply_to_all(double, numbers)\n",
    "print(doubled_numbers)  # Output: [2, 4, 6, 8]"
   ]
  },
  {
   "cell_type": "markdown",
   "metadata": {},
   "source": [
    "#### Problem Exercise: Implement a function that returns a list of squares of numbers using functional programming."
   ]
  },
  {
   "cell_type": "code",
   "execution_count": 8,
   "metadata": {},
   "outputs": [
    {
     "name": "stdout",
     "output_type": "stream",
     "text": [
      "Cubes: [1, 512, 19683, 262144, 1953125]\n"
     ]
    }
   ],
   "source": [
    "numbers = [1, 8, 27, 64, 125]\n",
    "cubes = list(map(lambda x: x ** 3, numbers))  # Cube each number in the list\n",
    "print(\"Cubes:\", cubes)"
   ]
  },
  {
   "cell_type": "markdown",
   "metadata": {},
   "source": [
    "### Object-Oriented Programming (OOP)"
   ]
  },
  {
   "cell_type": "code",
   "execution_count": 10,
   "metadata": {},
   "outputs": [
    {
     "name": "stdout",
     "output_type": "stream",
     "text": [
      "Object-Oriented Programming Example\n",
      "Sum: 8\n",
      "Difference: 2\n",
      "Product: 15\n",
      "Quotient: 1.6666666666666667\n"
     ]
    }
   ],
   "source": [
    "# Object-Oriented Programming (OOP)\n",
    "print(\"Object-Oriented Programming Example\")\n",
    "\n",
    "class Calculator:\n",
    "    def add(self, x, y):\n",
    "        return x + y\n",
    "    \n",
    "    def subtract(self, x, y):\n",
    "        return x - y\n",
    "    \n",
    "    def multiply(self, x, y):\n",
    "        return x * y\n",
    "    \n",
    "    def divide(self, x, y):\n",
    "        if y != 0:\n",
    "            return x / y\n",
    "        else:\n",
    "            return \"Cannot divide by zero\"\n",
    "\n",
    "# Create a Calculator object\n",
    "calc = Calculator()\n",
    "\n",
    "# Perform different operations\n",
    "print(\"Sum:\", calc.add(5, 3))\n",
    "print(\"Difference:\", calc.subtract(5, 3))\n",
    "print(\"Product:\", calc.multiply(5, 3))\n",
    "print(\"Quotient:\", calc.divide(5, 3))"
   ]
  },
  {
   "cell_type": "markdown",
   "metadata": {},
   "source": [
    "#### Problem Exercise: Create a class `Rectangle` with methods to calculate area and perimeter."
   ]
  },
  {
   "cell_type": "code",
   "execution_count": 12,
   "metadata": {},
   "outputs": [
    {
     "name": "stdout",
     "output_type": "stream",
     "text": [
      "Surface Area: 43.30127018922193\n",
      "Volume: 14.731391274719739\n"
     ]
    }
   ],
   "source": [
    "import math\n",
    "\n",
    "class Tetrahedron:\n",
    "    def __init__(self, side_length):\n",
    "        self.side_length = side_length\n",
    "    \n",
    "    def surface_area(self):\n",
    "        return math.sqrt(3) * (self.side_length ** 2)\n",
    "    \n",
    "    def volume(self):\n",
    "        return (self.side_length ** 3) / (6 * math.sqrt(2))\n",
    "\n",
    "# Create a Tetrahedron object with side length 5\n",
    "tetra = Tetrahedron(5)\n",
    "\n",
    "# Calculate surface area and volume\n",
    "print(\"Surface Area:\", tetra.surface_area())\n",
    "print(\"Volume:\", tetra.volume())"
   ]
  },
  {
   "cell_type": "markdown",
   "metadata": {},
   "source": [
    "### Conclusion\n",
    "Each paradigm has unique strengths. Combining them often leads to better software design."
   ]
  }
 ],
 "metadata": {
  "kernelspec": {
   "display_name": "Python [conda env:base] *",
   "language": "python",
   "name": "conda-base-py"
  },
  "language_info": {
   "codemirror_mode": {
    "name": "ipython",
    "version": 3
   },
   "file_extension": ".py",
   "mimetype": "text/x-python",
   "name": "python",
   "nbconvert_exporter": "python",
   "pygments_lexer": "ipython3",
   "version": "3.12.7"
  }
 },
 "nbformat": 4,
 "nbformat_minor": 4
}
