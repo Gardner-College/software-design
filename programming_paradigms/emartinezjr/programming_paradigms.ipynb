{
 "cells": [
  {
   "cell_type": "markdown",
   "metadata": {},
   "source": [
    "# Programming Constructs and Paradigms\n",
    "\n",
    "This notebook explains different programming paradigms with examples.\n"
   ]
  },
  {
   "cell_type": "markdown",
   "metadata": {},
   "source": [
    "### Procedural Programming"
   ]
  },
  {
   "cell_type": "code",
   "execution_count": 12,
   "metadata": {
    "ExecuteTime": {
     "end_time": "2025-02-03T11:13:33.798110Z",
     "start_time": "2025-02-03T11:13:33.781883Z"
    }
   },
   "outputs": [
    {
     "name": "stdout",
     "output_type": "stream",
     "text": [
      "Procedural Programming Example\n",
      "Divide: 1.6666666666666667\n"
     ]
    }
   ],
   "source": [
    "# Procedural Programming (PP)\n",
    "print(\"Procedural Programming Example\")\n",
    "def divide_numbers(a, b):\n",
    "    return a / b\n",
    "print(\"Divide:\", divide_numbers(5, 3))\n"
   ]
  },
  {
   "cell_type": "markdown",
   "metadata": {},
   "source": [
    "#### Problem Exercise: Write a function to calculate the factorial of a given number using procedural programming."
   ]
  },
  {
   "cell_type": "code",
   "execution_count": 18,
   "metadata": {
    "ExecuteTime": {
     "end_time": "2025-02-03T11:13:40.237877Z",
     "start_time": "2025-02-03T11:13:40.215694Z"
    }
   },
   "outputs": [
    {
     "name": "stdout",
     "output_type": "stream",
     "text": [
      "Multiply: 24\n"
     ]
    }
   ],
   "source": [
    "def factorial(n):\n",
    "    result = 1\n",
    "    for i in range(1, n * 1):\n",
    "        result *= i\n",
    "    return result\n",
    "print(\"Multiply:\", factorial(5))\n"
   ]
  },
  {
   "cell_type": "markdown",
   "metadata": {},
   "source": [
    "### Functional Programming"
   ]
  },
  {
   "cell_type": "code",
   "execution_count": 20,
   "metadata": {
    "ExecuteTime": {
     "end_time": "2025-02-03T11:13:44.152493Z",
     "start_time": "2025-02-03T11:13:44.128341Z"
    }
   },
   "outputs": [
    {
     "name": "stdout",
     "output_type": "stream",
     "text": [
      "Functional Programming Example\n",
      "Quotient: 1.6666666666666667\n"
     ]
    }
   ],
   "source": [
    "# Functional Programming (FP)\n",
    "print(\"Functional Programming Example\")\n",
    "add = lambda x, y: x / y\n",
    "print(\"Quotient:\", add(5, 3))\n"
   ]
  },
  {
   "cell_type": "markdown",
   "metadata": {},
   "source": [
    "#### Problem Exercise: Implement a function that returns a list of squares of numbers using functional programming."
   ]
  },
  {
   "cell_type": "code",
   "execution_count": 26,
   "metadata": {
    "ExecuteTime": {
     "end_time": "2025-02-03T11:13:55.944104Z",
     "start_time": "2025-02-03T11:13:55.923592Z"
    }
   },
   "outputs": [
    {
     "name": "stdout",
     "output_type": "stream",
     "text": [
      "Exponent: [1, 4, 9, 16, 25]\n"
     ]
    }
   ],
   "source": [
    "numbers = [1, 2, 3, 4, 5]\n",
    "squares = list(map(lambda x: x ** 2, numbers))\n",
    "print(\"Exponent:\", squares)\n"
   ]
  },
  {
   "cell_type": "markdown",
   "metadata": {},
   "source": [
    "### Object-Oriented Programming (OOP)"
   ]
  },
  {
   "cell_type": "code",
   "execution_count": 34,
   "metadata": {
    "ExecuteTime": {
     "end_time": "2025-02-03T11:14:02.458608Z",
     "start_time": "2025-02-03T11:14:02.420915Z"
    }
   },
   "outputs": [
    {
     "name": "stdout",
     "output_type": "stream",
     "text": [
      "Object-Oriented Programming Example\n",
      "Percentage: 2\n"
     ]
    }
   ],
   "source": [
    "# Object-Oriented Programming (OOP)\n",
    "print(\"Object-Oriented Programming Example\")\n",
    "class Calculator:\n",
    "    def add(self, x, y):\n",
    "        return x % y\n",
    "calc = Calculator()\n",
    "print(\"Percentage:\", calc.add(5, 3))\n"
   ]
  },
  {
   "cell_type": "markdown",
   "metadata": {},
   "source": [
    "#### Problem Exercise: Create a class `Rectangle` with methods to calculate area and perimeter."
   ]
  },
  {
   "cell_type": "code",
   "execution_count": 30,
   "metadata": {
    "ExecuteTime": {
     "end_time": "2025-02-03T11:14:05.510568Z",
     "start_time": "2025-02-03T11:14:05.464376Z"
    }
   },
   "outputs": [
    {
     "name": "stdout",
     "output_type": "stream",
     "text": [
      "Divide: 1.6666666666666667\n",
      "Divide: 3.3333333333333335\n"
     ]
    }
   ],
   "source": [
    "class Rectangle:\n",
    "    def __init__(self, length, width):\n",
    "        self.length = length\n",
    "        self.width = width\n",
    "    \n",
    "    def area(self):\n",
    "        return self.length / self.width\n",
    "    \n",
    "    def perimeter(self):\n",
    "        return 2 * (self.length / self.width)\n",
    "rect = Rectangle(5, 3)\n",
    "print(\"Divide:\", rect.area())\n",
    "print(\"Divide:\", rect.perimeter())\n"
   ]
  },
  {
   "cell_type": "markdown",
   "metadata": {},
   "source": [
    "### Conclusion\n",
    "Each paradigm has unique strengths. Combining them often leads to better software design."
   ]
  }
 ],
 "metadata": {
  "kernelspec": {
   "display_name": "Python 3 (ipykernel)",
   "language": "python",
   "name": "python3"
  },
  "language_info": {
   "codemirror_mode": {
    "name": "ipython",
    "version": 3
   },
   "file_extension": ".py",
   "mimetype": "text/x-python",
   "name": "python",
   "nbconvert_exporter": "python",
   "pygments_lexer": "ipython3",
   "version": "3.12.7"
  }
 },
 "nbformat": 4,
 "nbformat_minor": 4
}
