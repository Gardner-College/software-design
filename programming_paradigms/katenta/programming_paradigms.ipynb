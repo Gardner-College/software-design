{
  "cells": [
    {
      "cell_type": "markdown",
      "metadata": {
        "id": "z2RurgmHsIq3"
      },
      "source": [
        "# Programming Constructs and Paradigms\n",
        "\n",
        "This notebook explains different programming paradigms with examples.\n"
      ]
    },
    {
      "cell_type": "markdown",
      "metadata": {
        "id": "A6n1a63UsIq4"
      },
      "source": [
        "### Procedural Programming"
      ]
    },
    {
      "cell_type": "code",
      "execution_count": 38,
      "metadata": {
        "id": "GAaML7IEsIq5",
        "outputId": "f93ed5f5-8854-4f75-9435-487febb92bee",
        "colab": {
          "base_uri": "https://localhost:8080/"
        }
      },
      "outputs": [
        {
          "output_type": "stream",
          "name": "stdout",
          "text": [
            "Procedural Programming Example\n",
            "Sum: 8\n",
            "The sum will be multiplied by 2:\n",
            "Product: 16\n"
          ]
        }
      ],
      "source": [
        "# Procedural Programming (PP)\n",
        "print(\"Procedural Programming Example\")\n",
        "def add_numbers(a, b):\n",
        "    return a + b\n",
        "print(\"Sum:\", add_numbers(5, 3))\n",
        "print(\"The sum will be multiplied by 2:\")\n",
        "print(\"Product:\", add_numbers(5, 3)* 2)\n"
      ]
    },
    {
      "cell_type": "markdown",
      "metadata": {
        "id": "jss2h4whsIq5"
      },
      "source": [
        "#### Problem Exercise: Write a function to calculate the factorial of a given number using procedural programming. The answer will be divided into 5."
      ]
    },
    {
      "cell_type": "code",
      "execution_count": 4,
      "metadata": {
        "id": "MY-81jA5sIq5",
        "outputId": "4115f3c1-76da-4f36-c35c-789086c7d8e5",
        "colab": {
          "base_uri": "https://localhost:8080/"
        }
      },
      "outputs": [
        {
          "output_type": "stream",
          "name": "stdout",
          "text": [
            "Factorial: 120\n",
            "Divided by 5: 24.0\n"
          ]
        }
      ],
      "source": [
        "def factorial(n):\n",
        "    result = 1\n",
        "    for i in range(1, n + 1):\n",
        "        result *= i\n",
        "    return result\n",
        "\n",
        "factorial_result = factorial(5)\n",
        "divided_result = factorial_result / 5  # Divide the result by 5\n",
        "\n",
        "print(\"Factorial:\", factorial_result)\n",
        "print(\"Divided by 5:\", divided_result)\n"
      ]
    },
    {
      "cell_type": "markdown",
      "metadata": {
        "id": "NZPGFl1hsIq5"
      },
      "source": [
        "### Functional Programming"
      ]
    },
    {
      "cell_type": "code",
      "execution_count": 33,
      "metadata": {
        "id": "M5u3KT3BsIq6",
        "outputId": "193fb61f-5d17-4c41-e5d1-0f180ea608b1",
        "colab": {
          "base_uri": "https://localhost:8080/"
        }
      },
      "outputs": [
        {
          "output_type": "stream",
          "name": "stdout",
          "text": [
            "Functional Programming Example\n",
            "Product: 15\n"
          ]
        }
      ],
      "source": [
        "# Functional Programming (FP)\n",
        "print(\"Functional Programming Example\")\n",
        "multiply = lambda x, y: x * y\n",
        "print(\"Product:\", multiply(5, 3))\n"
      ]
    },
    {
      "cell_type": "markdown",
      "metadata": {
        "id": "XwnhGgDwsIq6"
      },
      "source": [
        "#### Problem Exercise: Implement a function that returns a list of \"Circles\" of numbers using functional programming."
      ]
    },
    {
      "cell_type": "code",
      "execution_count": 3,
      "metadata": {
        "id": "cfq0RbgWsIq6",
        "outputId": "dc2ecfdd-9fa3-4e81-a41b-34e8014ffef5",
        "colab": {
          "base_uri": "https://localhost:8080/"
        }
      },
      "outputs": [
        {
          "output_type": "stream",
          "name": "stdout",
          "text": [
            "Circle Areas: [3.141592653589793, 12.566370614359172, 28.274333882308138, 50.26548245743669, 78.53981633974483]\n"
          ]
        }
      ],
      "source": [
        "import math\n",
        "\n",
        "def circle_areas(radii):\n",
        "    return list(map(lambda r: math.pi * r ** 2, radii))\n",
        "\n",
        "# Example usage\n",
        "radii = [1, 2, 3, 4, 5]\n",
        "areas = circle_areas(radii)\n",
        "print(\"Circle Areas:\", areas)\n"
      ]
    },
    {
      "cell_type": "markdown",
      "metadata": {
        "id": "sLW5kK-3sIq6"
      },
      "source": [
        "### Object-Oriented Programming (OOP)"
      ]
    },
    {
      "cell_type": "code",
      "execution_count": 39,
      "metadata": {
        "id": "mnQWQzFDsIq6",
        "outputId": "46e5695e-3f10-4056-c01e-5e57552d02c1",
        "colab": {
          "base_uri": "https://localhost:8080/"
        }
      },
      "outputs": [
        {
          "output_type": "stream",
          "name": "stdout",
          "text": [
            "Object-Oriented Programming Example\n",
            "Difference: 2\n"
          ]
        }
      ],
      "source": [
        "# Object-Oriented Programming (OOP)\n",
        "print(\"Object-Oriented Programming Example\")\n",
        "class Calculator:\n",
        "    def sub(self, x, y):\n",
        "        return x - y\n",
        "calc = Calculator()\n",
        "print(\"Difference:\", calc.sub(5, 3))\n"
      ]
    },
    {
      "cell_type": "markdown",
      "metadata": {
        "id": "u5i2FPrXsIq6"
      },
      "source": [
        "#### Problem Exercise: Create a class `Rhombus` with methods to calculate area and perimeter."
      ]
    },
    {
      "cell_type": "code",
      "execution_count": 2,
      "metadata": {
        "id": "0mthyr1ksIq6",
        "outputId": "07c5a167-9a66-4797-9afd-7b05af4b3d17",
        "colab": {
          "base_uri": "https://localhost:8080/"
        }
      },
      "outputs": [
        {
          "output_type": "stream",
          "name": "stdout",
          "text": [
            "Area: 24.0\n",
            "Perimeter: 20\n"
          ]
        }
      ],
      "source": [
        "import math\n",
        "\n",
        "class Rhombus:\n",
        "    def __init__(self, side, diagonal1, diagonal2):\n",
        "        self.side = side\n",
        "        self.diagonal1 = diagonal1\n",
        "        self.diagonal2 = diagonal2\n",
        "\n",
        "    def area(self):\n",
        "        return (self.diagonal1 * self.diagonal2) / 2\n",
        "\n",
        "    def perimeter(self):\n",
        "        return 4 * self.side\n",
        "\n",
        "# Example usage\n",
        "rhombus = Rhombus(5, 8, 6)\n",
        "print(\"Area:\", rhombus.area())\n",
        "print(\"Perimeter:\", rhombus.perimeter())"
      ]
    },
    {
      "cell_type": "markdown",
      "metadata": {
        "id": "UXoiwaljsIq7"
      },
      "source": [
        "### Conclusion\n",
        "Each paradigm has unique strengths. Combining them often leads to better software design."
      ]
    }
  ],
  "metadata": {
    "kernelspec": {
      "display_name": "Python 3 (ipykernel)",
      "language": "python",
      "name": "python3"
    },
    "language_info": {
      "codemirror_mode": {
        "name": "ipython",
        "version": 3
      },
      "file_extension": ".py",
      "mimetype": "text/x-python",
      "name": "python",
      "nbconvert_exporter": "python",
      "pygments_lexer": "ipython3",
      "version": "3.12.8"
    },
    "colab": {
      "provenance": []
    }
  },
  "nbformat": 4,
  "nbformat_minor": 0
}